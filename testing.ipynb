{
 "cells": [
  {
   "cell_type": "code",
   "execution_count": 1,
   "id": "d6070bff",
   "metadata": {},
   "outputs": [],
   "source": [
    "import pandas as pd\n",
    "df = pd.read_csv('mldata.csv')"
   ]
  },
  {
   "cell_type": "code",
   "execution_count": 2,
   "id": "f5418959",
   "metadata": {},
   "outputs": [
    {
     "data": {
      "text/html": [
       "<div>\n",
       "<style scoped>\n",
       "    .dataframe tbody tr th:only-of-type {\n",
       "        vertical-align: middle;\n",
       "    }\n",
       "\n",
       "    .dataframe tbody tr th {\n",
       "        vertical-align: top;\n",
       "    }\n",
       "\n",
       "    .dataframe thead th {\n",
       "        text-align: right;\n",
       "    }\n",
       "</style>\n",
       "<table border=\"1\" class=\"dataframe\">\n",
       "  <thead>\n",
       "    <tr style=\"text-align: right;\">\n",
       "      <th></th>\n",
       "      <th>age</th>\n",
       "      <th>weight</th>\n",
       "      <th>gender</th>\n",
       "      <th>likeness</th>\n",
       "      <th>height</th>\n",
       "    </tr>\n",
       "  </thead>\n",
       "  <tbody>\n",
       "    <tr>\n",
       "      <th>0</th>\n",
       "      <td>27</td>\n",
       "      <td>76.0</td>\n",
       "      <td>1</td>\n",
       "      <td>Biryani</td>\n",
       "      <td>170.688</td>\n",
       "    </tr>\n",
       "    <tr>\n",
       "      <th>1</th>\n",
       "      <td>41</td>\n",
       "      <td>70.0</td>\n",
       "      <td>1</td>\n",
       "      <td>Biryani</td>\n",
       "      <td>165</td>\n",
       "    </tr>\n",
       "    <tr>\n",
       "      <th>2</th>\n",
       "      <td>29</td>\n",
       "      <td>80.0</td>\n",
       "      <td>1</td>\n",
       "      <td>Biryani</td>\n",
       "      <td>171</td>\n",
       "    </tr>\n",
       "    <tr>\n",
       "      <th>3</th>\n",
       "      <td>27</td>\n",
       "      <td>102.0</td>\n",
       "      <td>1</td>\n",
       "      <td>Biryani</td>\n",
       "      <td>173</td>\n",
       "    </tr>\n",
       "    <tr>\n",
       "      <th>4</th>\n",
       "      <td>29</td>\n",
       "      <td>67.0</td>\n",
       "      <td>1</td>\n",
       "      <td>Biryani</td>\n",
       "      <td>164</td>\n",
       "    </tr>\n",
       "    <tr>\n",
       "      <th>...</th>\n",
       "      <td>...</td>\n",
       "      <td>...</td>\n",
       "      <td>...</td>\n",
       "      <td>...</td>\n",
       "      <td>...</td>\n",
       "    </tr>\n",
       "    <tr>\n",
       "      <th>240</th>\n",
       "      <td>31</td>\n",
       "      <td>60.0</td>\n",
       "      <td>1</td>\n",
       "      <td>Pakora</td>\n",
       "      <td>160</td>\n",
       "    </tr>\n",
       "    <tr>\n",
       "      <th>241</th>\n",
       "      <td>26</td>\n",
       "      <td>70.0</td>\n",
       "      <td>1</td>\n",
       "      <td>Biryani</td>\n",
       "      <td>172</td>\n",
       "    </tr>\n",
       "    <tr>\n",
       "      <th>242</th>\n",
       "      <td>40</td>\n",
       "      <td>80.0</td>\n",
       "      <td>1</td>\n",
       "      <td>Biryani</td>\n",
       "      <td>178</td>\n",
       "    </tr>\n",
       "    <tr>\n",
       "      <th>243</th>\n",
       "      <td>25</td>\n",
       "      <td>65.0</td>\n",
       "      <td>1</td>\n",
       "      <td>Biryani</td>\n",
       "      <td>5.7</td>\n",
       "    </tr>\n",
       "    <tr>\n",
       "      <th>244</th>\n",
       "      <td>33</td>\n",
       "      <td>56.0</td>\n",
       "      <td>0</td>\n",
       "      <td>Samosa</td>\n",
       "      <td>157</td>\n",
       "    </tr>\n",
       "  </tbody>\n",
       "</table>\n",
       "<p>245 rows × 5 columns</p>\n",
       "</div>"
      ],
      "text/plain": [
       "     age  weight  gender likeness   height\n",
       "0     27    76.0       1  Biryani  170.688\n",
       "1     41    70.0       1  Biryani      165\n",
       "2     29    80.0       1  Biryani      171\n",
       "3     27   102.0       1  Biryani      173\n",
       "4     29    67.0       1  Biryani      164\n",
       "..   ...     ...     ...      ...      ...\n",
       "240   31    60.0       1   Pakora      160\n",
       "241   26    70.0       1  Biryani      172\n",
       "242   40    80.0       1  Biryani      178\n",
       "243   25    65.0       1  Biryani      5.7\n",
       "244   33    56.0       0   Samosa      157\n",
       "\n",
       "[245 rows x 5 columns]"
      ]
     },
     "execution_count": 2,
     "metadata": {},
     "output_type": "execute_result"
    }
   ],
   "source": [
    "df['gender'] = df['gender'].replace(\"Male\", 1)\n",
    "df['gender'] = df['gender'].replace(\"Female\", 0)\n",
    "df"
   ]
  },
  {
   "cell_type": "code",
   "execution_count": 3,
   "id": "059b0783",
   "metadata": {},
   "outputs": [],
   "source": [
    "# selection of input and ouput varables\n",
    "x = df[['weight', 'gender']]\n",
    "y = df['likeness']"
   ]
  },
  {
   "cell_type": "code",
   "execution_count": 4,
   "id": "03d17c21",
   "metadata": {},
   "outputs": [
    {
     "data": {
      "text/html": [
       "<div>\n",
       "<style scoped>\n",
       "    .dataframe tbody tr th:only-of-type {\n",
       "        vertical-align: middle;\n",
       "    }\n",
       "\n",
       "    .dataframe tbody tr th {\n",
       "        vertical-align: top;\n",
       "    }\n",
       "\n",
       "    .dataframe thead th {\n",
       "        text-align: right;\n",
       "    }\n",
       "</style>\n",
       "<table border=\"1\" class=\"dataframe\">\n",
       "  <thead>\n",
       "    <tr style=\"text-align: right;\">\n",
       "      <th></th>\n",
       "      <th>weight</th>\n",
       "      <th>gender</th>\n",
       "    </tr>\n",
       "  </thead>\n",
       "  <tbody>\n",
       "    <tr>\n",
       "      <th>0</th>\n",
       "      <td>76.0</td>\n",
       "      <td>1</td>\n",
       "    </tr>\n",
       "    <tr>\n",
       "      <th>1</th>\n",
       "      <td>70.0</td>\n",
       "      <td>1</td>\n",
       "    </tr>\n",
       "    <tr>\n",
       "      <th>2</th>\n",
       "      <td>80.0</td>\n",
       "      <td>1</td>\n",
       "    </tr>\n",
       "    <tr>\n",
       "      <th>3</th>\n",
       "      <td>102.0</td>\n",
       "      <td>1</td>\n",
       "    </tr>\n",
       "    <tr>\n",
       "      <th>4</th>\n",
       "      <td>67.0</td>\n",
       "      <td>1</td>\n",
       "    </tr>\n",
       "    <tr>\n",
       "      <th>...</th>\n",
       "      <td>...</td>\n",
       "      <td>...</td>\n",
       "    </tr>\n",
       "    <tr>\n",
       "      <th>240</th>\n",
       "      <td>60.0</td>\n",
       "      <td>1</td>\n",
       "    </tr>\n",
       "    <tr>\n",
       "      <th>241</th>\n",
       "      <td>70.0</td>\n",
       "      <td>1</td>\n",
       "    </tr>\n",
       "    <tr>\n",
       "      <th>242</th>\n",
       "      <td>80.0</td>\n",
       "      <td>1</td>\n",
       "    </tr>\n",
       "    <tr>\n",
       "      <th>243</th>\n",
       "      <td>65.0</td>\n",
       "      <td>1</td>\n",
       "    </tr>\n",
       "    <tr>\n",
       "      <th>244</th>\n",
       "      <td>56.0</td>\n",
       "      <td>0</td>\n",
       "    </tr>\n",
       "  </tbody>\n",
       "</table>\n",
       "<p>245 rows × 2 columns</p>\n",
       "</div>"
      ],
      "text/plain": [
       "     weight  gender\n",
       "0      76.0       1\n",
       "1      70.0       1\n",
       "2      80.0       1\n",
       "3     102.0       1\n",
       "4      67.0       1\n",
       "..      ...     ...\n",
       "240    60.0       1\n",
       "241    70.0       1\n",
       "242    80.0       1\n",
       "243    65.0       1\n",
       "244    56.0       0\n",
       "\n",
       "[245 rows x 2 columns]"
      ]
     },
     "execution_count": 4,
     "metadata": {},
     "output_type": "execute_result"
    }
   ],
   "source": [
    "x"
   ]
  },
  {
   "cell_type": "code",
   "execution_count": 4,
   "id": "8130ec97",
   "metadata": {},
   "outputs": [
    {
     "data": {
      "text/plain": [
       "0      Biryani\n",
       "1      Biryani\n",
       "2      Biryani\n",
       "3      Biryani\n",
       "4      Biryani\n",
       "        ...   \n",
       "240     Pakora\n",
       "241    Biryani\n",
       "242    Biryani\n",
       "243    Biryani\n",
       "244     Samosa\n",
       "Name: likeness, Length: 245, dtype: object"
      ]
     },
     "execution_count": 4,
     "metadata": {},
     "output_type": "execute_result"
    }
   ],
   "source": [
    "y"
   ]
  },
  {
   "cell_type": "code",
   "execution_count": 6,
   "id": "be15c140",
   "metadata": {},
   "outputs": [
    {
     "name": "stdout",
     "output_type": "stream",
     "text": [
      "Requirement already satisfied: scikit-learn in c:\\users\\nasirnauman\\anaconda3\\lib\\site-packages (0.24.2)\n",
      "Requirement already satisfied: threadpoolctl>=2.0.0 in c:\\users\\nasirnauman\\anaconda3\\lib\\site-packages (from scikit-learn) (2.2.0)\n",
      "Requirement already satisfied: scipy>=0.19.1 in c:\\users\\nasirnauman\\anaconda3\\lib\\site-packages (from scikit-learn) (1.7.1)\n",
      "Requirement already satisfied: numpy>=1.13.3 in c:\\users\\nasirnauman\\anaconda3\\lib\\site-packages (from scikit-learn) (1.20.3)\n",
      "Requirement already satisfied: joblib>=0.11 in c:\\users\\nasirnauman\\anaconda3\\lib\\site-packages (from scikit-learn) (1.1.0)\n",
      "Note: you may need to restart the kernel to use updated packages.\n"
     ]
    }
   ],
   "source": [
    "pip install scikit-learn"
   ]
  },
  {
   "cell_type": "code",
   "execution_count": 5,
   "id": "87dc64c9",
   "metadata": {},
   "outputs": [
    {
     "data": {
      "text/plain": [
       "array(['Biryani'], dtype=object)"
      ]
     },
     "execution_count": 5,
     "metadata": {},
     "output_type": "execute_result"
    }
   ],
   "source": [
    "# machine Learning Algorithan\n",
    "from sklearn.tree import DecisionTreeClassifier\n",
    "# create and fit our model\n",
    "model = DecisionTreeClassifier().fit(x,y)\n",
    "\n",
    "# Prediction\n",
    "model.predict([[30,0]])"
   ]
  },
  {
   "cell_type": "code",
   "execution_count": 6,
   "id": "2c13e0b2",
   "metadata": {},
   "outputs": [
    {
     "data": {
      "text/plain": [
       "0.5306122448979592"
      ]
     },
     "execution_count": 6,
     "metadata": {},
     "output_type": "execute_result"
    }
   ],
   "source": [
    "from sklearn.model_selection import train_test_split\n",
    "from sklearn.metrics import accuracy_score\n",
    "x_train, x_test, y_train, y_test = train_test_split(x, y, test_size=0.2)\n",
    "#create a model\n",
    "model = DecisionTreeClassifier()\n",
    "model.fit(x_train, y_train)\n",
    "predicted_values = model.predict(x_test)\n",
    "predicted_values\n",
    "score = accuracy_score(y_test, predicted_values)\n",
    "score"
   ]
  },
  {
   "cell_type": "code",
   "execution_count": 7,
   "id": "9e027907",
   "metadata": {},
   "outputs": [
    {
     "data": {
      "text/plain": [
       "['foodie.pk']"
      ]
     },
     "execution_count": 7,
     "metadata": {},
     "output_type": "execute_result"
    }
   ],
   "source": [
    "# how to train and save your model\n",
    "import pandas as pd\n",
    "from sklearn.tree import DecisionTreeClassifier\n",
    "import joblib\n",
    "model = DecisionTreeClassifier().fit(x,y)\n",
    "joblib.dump(model, \"foodie.pk\")\n"
   ]
  },
  {
   "cell_type": "code",
   "execution_count": 8,
   "id": "7a837058",
   "metadata": {},
   "outputs": [
    {
     "data": {
      "text/plain": [
       "array(['Samosa', 'Biryani', 'Biryani', 'Samosa', 'Biryani', 'Biryani',\n",
       "       'Pakora', 'Biryani', 'Samosa', 'Biryani', 'Biryani', 'Biryani',\n",
       "       'Biryani', 'Biryani', 'Samosa', 'Biryani', 'Samosa', 'Biryani',\n",
       "       'Biryani', 'Biryani', 'Biryani', 'Biryani', 'Samosa', 'Biryani',\n",
       "       'Biryani', 'Biryani', 'Biryani', 'Biryani', 'Biryani', 'Biryani',\n",
       "       'Biryani', 'Biryani', 'Biryani', 'Biryani', 'Biryani', 'Biryani',\n",
       "       'Samosa', 'Biryani', 'Biryani', 'Biryani', 'Biryani', 'Biryani',\n",
       "       'Biryani', 'Biryani', 'Biryani', 'Biryani', 'Biryani', 'Biryani',\n",
       "       'Samosa'], dtype=object)"
      ]
     },
     "execution_count": 8,
     "metadata": {},
     "output_type": "execute_result"
    }
   ],
   "source": [
    "# how to run a import/run a stored a saved model on our data?\n",
    "loaded_model = joblib.load('foodie.pk')\n",
    "prevalues=loaded_model.predict(x_test)\n",
    "prevalues"
   ]
  },
  {
   "cell_type": "code",
   "execution_count": 10,
   "id": "69cd5b29",
   "metadata": {},
   "outputs": [],
   "source": [
    "# graph\n",
    "from sklearn import tree\n",
    "model = DecisionTreeClassifier().fit(x,y)\n",
    "tree.export_graphviz(model, \n",
    "                    out_file='foodie.dot', \n",
    "                    feature_names= ['age','gender'], \n",
    "                    class_names= sorted(y.unique()),\n",
    "                    label='all',\n",
    "                    rounded= True,\n",
    "                    filled=True)"
   ]
  },
  {
   "cell_type": "code",
   "execution_count": null,
   "id": "a1d92d65",
   "metadata": {},
   "outputs": [],
   "source": [
    "import pandas as pd\n",
    "import numpy as np\n",
    "import seaborn as sns\n",
    "df = sns.load_dataset(\"iris\")\n",
    "df.head()"
   ]
  },
  {
   "cell_type": "code",
   "execution_count": null,
   "id": "7cdd6ffc",
   "metadata": {},
   "outputs": [],
   "source": []
  }
 ],
 "metadata": {
  "kernelspec": {
   "display_name": "Python 3 (ipykernel)",
   "language": "python",
   "name": "python3"
  },
  "language_info": {
   "codemirror_mode": {
    "name": "ipython",
    "version": 3
   },
   "file_extension": ".py",
   "mimetype": "text/x-python",
   "name": "python",
   "nbconvert_exporter": "python",
   "pygments_lexer": "ipython3",
   "version": "3.9.7"
  }
 },
 "nbformat": 4,
 "nbformat_minor": 5
}
