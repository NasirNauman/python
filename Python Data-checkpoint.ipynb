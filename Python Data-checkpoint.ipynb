{
 "cells": [
  {
   "cell_type": "raw",
   "id": "89609986",
   "metadata": {},
   "source": [
    "...Basic Data Structures in Python\n",
    "1. Tuple\n",
    "2. List\n",
    "3. Dictionaries\n",
    "4. set"
   ]
  },
  {
   "cell_type": "raw",
   "id": "2348fde2",
   "metadata": {},
   "source": [
    "##1. Tuple\n",
    "ordered collection of elements\n",
    "encloses in round braces\n",
    "different kind of elements\n",
    "once elements stored you can not change"
   ]
  },
  {
   "cell_type": "code",
   "execution_count": 3,
   "id": "f30ee187",
   "metadata": {},
   "outputs": [
    {
     "data": {
      "text/plain": [
       "(1, 'python', True, 2.5)"
      ]
     },
     "execution_count": 3,
     "metadata": {},
     "output_type": "execute_result"
    }
   ],
   "source": [
    "tupl = (1, \"python\", True, 2.5)\n",
    "tupl"
   ]
  },
  {
   "cell_type": "code",
   "execution_count": 4,
   "id": "c5ce9158",
   "metadata": {},
   "outputs": [
    {
     "data": {
      "text/plain": [
       "tuple"
      ]
     },
     "execution_count": 4,
     "metadata": {},
     "output_type": "execute_result"
    }
   ],
   "source": [
    "type(tupl)"
   ]
  },
  {
   "cell_type": "code",
   "execution_count": 9,
   "id": "4f45e676",
   "metadata": {},
   "outputs": [
    {
     "data": {
      "text/plain": [
       "1"
      ]
     },
     "execution_count": 9,
     "metadata": {},
     "output_type": "execute_result"
    }
   ],
   "source": [
    "tupl[0]"
   ]
  },
  {
   "cell_type": "code",
   "execution_count": 11,
   "id": "eabce935",
   "metadata": {},
   "outputs": [
    {
     "data": {
      "text/plain": [
       "(1, 'python', True, 2.5)"
      ]
     },
     "execution_count": 11,
     "metadata": {},
     "output_type": "execute_result"
    }
   ],
   "source": [
    "tupl[0:4]"
   ]
  },
  {
   "cell_type": "code",
   "execution_count": 13,
   "id": "b42a60ad",
   "metadata": {},
   "outputs": [
    {
     "data": {
      "text/plain": [
       "4"
      ]
     },
     "execution_count": 13,
     "metadata": {},
     "output_type": "execute_result"
    }
   ],
   "source": [
    "len(tupl)"
   ]
  },
  {
   "cell_type": "code",
   "execution_count": 15,
   "id": "238e7ee0",
   "metadata": {},
   "outputs": [
    {
     "data": {
      "text/plain": [
       "(2, 'Nasir Nauman', 4.5, False)"
      ]
     },
     "execution_count": 15,
     "metadata": {},
     "output_type": "execute_result"
    }
   ],
   "source": [
    "tupl2 = (2, \"Nasir Nauman\", 4.5, False)\n",
    "tupl2"
   ]
  },
  {
   "cell_type": "code",
   "execution_count": 16,
   "id": "f73d5300",
   "metadata": {},
   "outputs": [
    {
     "data": {
      "text/plain": [
       "(1, 'python', True, 2.5, 2, 'Nasir Nauman', 4.5, False)"
      ]
     },
     "execution_count": 16,
     "metadata": {},
     "output_type": "execute_result"
    }
   ],
   "source": [
    "tupl + tupl2"
   ]
  },
  {
   "cell_type": "code",
   "execution_count": 20,
   "id": "1e968566",
   "metadata": {},
   "outputs": [
    {
     "data": {
      "text/plain": [
       "(1, 'python', True, 2.5, 1, 'python', True, 2.5, 2, 'Nasir Nauman', 4.5, False)"
      ]
     },
     "execution_count": 20,
     "metadata": {},
     "output_type": "execute_result"
    }
   ],
   "source": [
    "tupl*2 + tupl2"
   ]
  },
  {
   "cell_type": "code",
   "execution_count": 23,
   "id": "fd81bf47",
   "metadata": {},
   "outputs": [
    {
     "data": {
      "text/plain": [
       "(40, 50, 30, 60, 79, 85)"
      ]
     },
     "execution_count": 23,
     "metadata": {},
     "output_type": "execute_result"
    }
   ],
   "source": [
    "tupl3 = (40, 50, 30, 60, 79, 85)\n",
    "tupl3"
   ]
  },
  {
   "cell_type": "code",
   "execution_count": 24,
   "id": "3c825013",
   "metadata": {},
   "outputs": [
    {
     "data": {
      "text/plain": [
       "30"
      ]
     },
     "execution_count": 24,
     "metadata": {},
     "output_type": "execute_result"
    }
   ],
   "source": [
    "min(tupl3)"
   ]
  },
  {
   "cell_type": "code",
   "execution_count": 25,
   "id": "b5615ff9",
   "metadata": {},
   "outputs": [
    {
     "data": {
      "text/plain": [
       "85"
      ]
     },
     "execution_count": 25,
     "metadata": {},
     "output_type": "execute_result"
    }
   ],
   "source": [
    "max(tupl3)"
   ]
  },
  {
   "cell_type": "code",
   "execution_count": 29,
   "id": "23979b8b",
   "metadata": {},
   "outputs": [
    {
     "data": {
      "text/plain": [
       "(40, 50, 30, 60, 79, 85, 40, 50, 30, 60, 79, 85, 40, 50, 30, 60, 79, 85)"
      ]
     },
     "execution_count": 29,
     "metadata": {},
     "output_type": "execute_result"
    }
   ],
   "source": [
    "tupl3*3"
   ]
  },
  {
   "cell_type": "markdown",
   "id": "26476e32",
   "metadata": {},
   "source": [
    "# List"
   ]
  },
  {
   "cell_type": "code",
   "execution_count": 35,
   "id": "a42c71a4",
   "metadata": {},
   "outputs": [
    {
     "data": {
      "text/plain": [
       "[1, 'baba python', True]"
      ]
     },
     "execution_count": 35,
     "metadata": {},
     "output_type": "execute_result"
    }
   ],
   "source": [
    "list1 = [1, \"baba python\", True]\n",
    "list1"
   ]
  },
  {
   "cell_type": "code",
   "execution_count": 36,
   "id": "ab64c0e1",
   "metadata": {},
   "outputs": [
    {
     "data": {
      "text/plain": [
       "list"
      ]
     },
     "execution_count": 36,
     "metadata": {},
     "output_type": "execute_result"
    }
   ],
   "source": [
    "type(list1)"
   ]
  },
  {
   "cell_type": "code",
   "execution_count": 37,
   "id": "52784dec",
   "metadata": {},
   "outputs": [
    {
     "data": {
      "text/plain": [
       "3"
      ]
     },
     "execution_count": 37,
     "metadata": {},
     "output_type": "execute_result"
    }
   ],
   "source": [
    "len(list1)"
   ]
  },
  {
   "cell_type": "code",
   "execution_count": 39,
   "id": "10225c18",
   "metadata": {},
   "outputs": [
    {
     "data": {
      "text/plain": [
       "True"
      ]
     },
     "execution_count": 39,
     "metadata": {},
     "output_type": "execute_result"
    }
   ],
   "source": [
    "list1[2]"
   ]
  },
  {
   "cell_type": "code",
   "execution_count": 44,
   "id": "972d6c50",
   "metadata": {},
   "outputs": [
    {
     "data": {
      "text/plain": [
       "[3, 5, 'nasir', 475, True, 4.5]"
      ]
     },
     "execution_count": 44,
     "metadata": {},
     "output_type": "execute_result"
    }
   ],
   "source": [
    "list2 =[3, 5, \"nasir\", 475, True, 4.5]\n",
    "list2"
   ]
  },
  {
   "cell_type": "code",
   "execution_count": 45,
   "id": "26acd379",
   "metadata": {},
   "outputs": [
    {
     "data": {
      "text/plain": [
       "[1, 'baba python', True, 3, 5, 'nasir', 475, True, 4.5]"
      ]
     },
     "execution_count": 45,
     "metadata": {},
     "output_type": "execute_result"
    }
   ],
   "source": [
    "list1+list2"
   ]
  },
  {
   "cell_type": "code",
   "execution_count": 46,
   "id": "203ffac3",
   "metadata": {},
   "outputs": [
    {
     "data": {
      "text/plain": [
       "[1, 'baba python', True, 1, 'baba python', True, 3, 5, 'nasir', 475, True, 4.5]"
      ]
     },
     "execution_count": 46,
     "metadata": {},
     "output_type": "execute_result"
    }
   ],
   "source": [
    "list1*2 +list2"
   ]
  },
  {
   "cell_type": "code",
   "execution_count": 47,
   "id": "0c66ba32",
   "metadata": {},
   "outputs": [
    {
     "data": {
      "text/plain": [
       "[True, 'baba python', 1]"
      ]
     },
     "execution_count": 47,
     "metadata": {},
     "output_type": "execute_result"
    }
   ],
   "source": [
    "list1.reverse()\n",
    "list1"
   ]
  },
  {
   "cell_type": "code",
   "execution_count": 49,
   "id": "70d39b11",
   "metadata": {},
   "outputs": [
    {
     "data": {
      "text/plain": [
       "[True, 'baba python', 1, 'learn python with me', 'learn python with me']"
      ]
     },
     "execution_count": 49,
     "metadata": {},
     "output_type": "execute_result"
    }
   ],
   "source": [
    "list1.append(\"learn python with me\")\n",
    "list1"
   ]
  },
  {
   "cell_type": "code",
   "execution_count": 58,
   "id": "86746ce0",
   "metadata": {},
   "outputs": [
    {
     "name": "stdout",
     "output_type": "stream",
     "text": [
      "count of 2 : 1\n"
     ]
    }
   ],
   "source": [
    "count = list2.count(3)\n",
    "print('count of 2 :', count)"
   ]
  },
  {
   "cell_type": "code",
   "execution_count": 62,
   "id": "2d47f130",
   "metadata": {},
   "outputs": [
    {
     "name": "stdout",
     "output_type": "stream",
     "text": [
      "The count of i is: 2\n"
     ]
    }
   ],
   "source": [
    "vowels = ['a', 'e', 'i', 'o', 'i', 'u']\n",
    "# count element 'i'\n",
    "count = vowels.count('i')\n",
    "# print count\n",
    "print('The count of i is:', count)\n"
   ]
  },
  {
   "cell_type": "code",
   "execution_count": 63,
   "id": "1cb9b1a8",
   "metadata": {},
   "outputs": [
    {
     "data": {
      "text/plain": [
       "[20, 30, 35, 50, 40, 12, 15, 11, 10, 356, 56, 886]"
      ]
     },
     "execution_count": 63,
     "metadata": {},
     "output_type": "execute_result"
    }
   ],
   "source": [
    "list3 = [20, 30, 35, 50, 40, 12, 15, 11, 10, 356, 56, 886]\n",
    "list3"
   ]
  },
  {
   "cell_type": "code",
   "execution_count": 64,
   "id": "536663ae",
   "metadata": {},
   "outputs": [
    {
     "data": {
      "text/plain": [
       "12"
      ]
     },
     "execution_count": 64,
     "metadata": {},
     "output_type": "execute_result"
    }
   ],
   "source": [
    "len(list3)"
   ]
  },
  {
   "cell_type": "code",
   "execution_count": 65,
   "id": "5f1c0f94",
   "metadata": {},
   "outputs": [
    {
     "data": {
      "text/plain": [
       "[10, 11, 12, 15, 20, 30, 35, 40, 50, 56, 356, 886]"
      ]
     },
     "execution_count": 65,
     "metadata": {},
     "output_type": "execute_result"
    }
   ],
   "source": [
    "# sorting of list \n",
    "list3.sort()\n",
    "list3"
   ]
  },
  {
   "cell_type": "code",
   "execution_count": 66,
   "id": "874d5dca",
   "metadata": {},
   "outputs": [
    {
     "data": {
      "text/plain": [
       "[10,\n",
       " 11,\n",
       " 12,\n",
       " 15,\n",
       " 20,\n",
       " 30,\n",
       " 35,\n",
       " 40,\n",
       " 50,\n",
       " 56,\n",
       " 356,\n",
       " 886,\n",
       " 10,\n",
       " 11,\n",
       " 12,\n",
       " 15,\n",
       " 20,\n",
       " 30,\n",
       " 35,\n",
       " 40,\n",
       " 50,\n",
       " 56,\n",
       " 356,\n",
       " 886]"
      ]
     },
     "execution_count": 66,
     "metadata": {},
     "output_type": "execute_result"
    }
   ],
   "source": [
    "list3*2"
   ]
  },
  {
   "cell_type": "code",
   "execution_count": 74,
   "id": "393beac5",
   "metadata": {},
   "outputs": [],
   "source": [
    "lis=list1 + list2 +list3"
   ]
  },
  {
   "cell_type": "code",
   "execution_count": 75,
   "id": "5964779f",
   "metadata": {},
   "outputs": [
    {
     "name": "stdout",
     "output_type": "stream",
     "text": [
      "[10, 11, 12, 15, 20, 30, 35, 40, 50, 56, 356, 886]\n",
      "[10, 11, 12, 15, 20, 30, 35, 40, 50, 56, 356, 886]\n",
      "[10, 11, 12, 15, 20, 30, 35, 40, 50, 56, 356, 886]\n",
      "[10, 11, 12, 15, 20, 30, 35, 40, 50, 56, 356, 886]\n",
      "[10, 11, 12, 15, 20, 30, 35, 40, 50, 56, 356, 886]\n",
      "[10, 11, 12, 15, 20, 30, 35, 40, 50, 56, 356, 886]\n",
      "[10, 11, 12, 15, 20, 30, 35, 40, 50, 56, 356, 886]\n",
      "[10, 11, 12, 15, 20, 30, 35, 40, 50, 56, 356, 886]\n",
      "[10, 11, 12, 15, 20, 30, 35, 40, 50, 56, 356, 886]\n",
      "[10, 11, 12, 15, 20, 30, 35, 40, 50, 56, 356, 886]\n",
      "[10, 11, 12, 15, 20, 30, 35, 40, 50, 56, 356, 886]\n",
      "[10, 11, 12, 15, 20, 30, 35, 40, 50, 56, 356, 886]\n"
     ]
    }
   ],
   "source": [
    "for x in list3:\n",
    "     print(list3)"
   ]
  },
  {
   "cell_type": "markdown",
   "id": "eaf4e378",
   "metadata": {},
   "source": [
    "## Dictionaries \n",
    "- An unordered collections of elements\n",
    "- Key and Value\n",
    "-curly braces or brackets{}\n",
    "-Mutateable/ change values"
   ]
  },
  {
   "cell_type": "code",
   "execution_count": 76,
   "id": "9e978fad",
   "metadata": {},
   "outputs": [
    {
     "data": {
      "text/plain": [
       "{'samosa': 30, 'Pakora': 100, 'Raita': 50, 'salad': 15, 'chiken rolls': 25}"
      ]
     },
     "execution_count": 76,
     "metadata": {},
     "output_type": "execute_result"
    }
   ],
   "source": [
    "#Food and their Prices\n",
    "food1 = {\"samosa\":30, \"Pakora\":100, \"Raita\":50, \"salad\":15, \"chiken rolls\":25}\n",
    "food1\n"
   ]
  },
  {
   "cell_type": "code",
   "execution_count": 78,
   "id": "85976f3c",
   "metadata": {},
   "outputs": [
    {
     "data": {
      "text/plain": [
       "dict"
      ]
     },
     "execution_count": 78,
     "metadata": {},
     "output_type": "execute_result"
    }
   ],
   "source": [
    "type(food1)"
   ]
  },
  {
   "cell_type": "code",
   "execution_count": 81,
   "id": "0a036023",
   "metadata": {},
   "outputs": [
    {
     "data": {
      "text/plain": [
       "dict_keys(['samosa', 'Pakora', 'Raita', 'salad', 'chiken rolls'])"
      ]
     },
     "execution_count": 81,
     "metadata": {},
     "output_type": "execute_result"
    }
   ],
   "source": [
    "keys1 = food1.keys()\n",
    "keys1"
   ]
  },
  {
   "cell_type": "code",
   "execution_count": 83,
   "id": "8321270e",
   "metadata": {},
   "outputs": [
    {
     "data": {
      "text/plain": [
       "dict_values([30, 100, 50, 15, 25])"
      ]
     },
     "execution_count": 83,
     "metadata": {},
     "output_type": "execute_result"
    }
   ],
   "source": [
    "values1 = food1.values()\n",
    "values1"
   ]
  },
  {
   "cell_type": "code",
   "execution_count": 84,
   "id": "1de5e4de",
   "metadata": {},
   "outputs": [
    {
     "data": {
      "text/plain": [
       "{'samosa': 30,\n",
       " 'Pakora': 100,\n",
       " 'Raita': 50,\n",
       " 'salad': 15,\n",
       " 'chiken rolls': 25,\n",
       " 'tikki': 5}"
      ]
     },
     "execution_count": 84,
     "metadata": {},
     "output_type": "execute_result"
    }
   ],
   "source": [
    "food1[\"tikki\"]=5\n",
    "food1"
   ]
  },
  {
   "cell_type": "code",
   "execution_count": 86,
   "id": "21d66297",
   "metadata": {
    "scrolled": true
   },
   "outputs": [
    {
     "data": {
      "text/plain": [
       "{'samosa': 30,\n",
       " 'Pakora': 100,\n",
       " 'Raita': 50,\n",
       " 'salad': 15,\n",
       " 'chiken rolls': 25,\n",
       " 'tikki': 15,\n",
       " 'tikkii': 15}"
      ]
     },
     "execution_count": 86,
     "metadata": {},
     "output_type": "execute_result"
    }
   ],
   "source": [
    "#update the values\n",
    "food1[\"tikki\"]=15\n",
    "food1\n"
   ]
  },
  {
   "cell_type": "code",
   "execution_count": 2,
   "id": "5d886b1d",
   "metadata": {},
   "outputs": [
    {
     "ename": "NameError",
     "evalue": "name 'food1' is not defined",
     "output_type": "error",
     "traceback": [
      "\u001b[1;31m---------------------------------------------------------------------------\u001b[0m",
      "\u001b[1;31mNameError\u001b[0m                                 Traceback (most recent call last)",
      "\u001b[1;32mC:\\Users\\NASIRN~1\\AppData\\Local\\Temp/ipykernel_6024/711900149.py\u001b[0m in \u001b[0;36m<module>\u001b[1;34m\u001b[0m\n\u001b[1;32m----> 1\u001b[1;33m \u001b[0mfood1\u001b[0m\u001b[1;33m\u001b[0m\u001b[1;33m\u001b[0m\u001b[0m\n\u001b[0m",
      "\u001b[1;31mNameError\u001b[0m: name 'food1' is not defined"
     ]
    }
   ],
   "source": [
    "food1"
   ]
  },
  {
   "cell_type": "code",
   "execution_count": 3,
   "id": "bc0da0a4",
   "metadata": {},
   "outputs": [
    {
     "data": {
      "text/plain": [
       "{'dates': 50, 'Choclates': 200, 'swyyan': 1000}"
      ]
     },
     "execution_count": 3,
     "metadata": {},
     "output_type": "execute_result"
    }
   ],
   "source": [
    "food2 = {\"dates\":50, \"Choclates\":200, \"swyyan\":1000}\n",
    "food2"
   ]
  },
  {
   "cell_type": "code",
   "execution_count": 1,
   "id": "fa1669fc",
   "metadata": {},
   "outputs": [
    {
     "ename": "NameError",
     "evalue": "name 'food1' is not defined",
     "output_type": "error",
     "traceback": [
      "\u001b[1;31m---------------------------------------------------------------------------\u001b[0m",
      "\u001b[1;31mNameError\u001b[0m                                 Traceback (most recent call last)",
      "\u001b[1;32mC:\\Users\\NASIRN~1\\AppData\\Local\\Temp/ipykernel_6024/1353819702.py\u001b[0m in \u001b[0;36m<module>\u001b[1;34m\u001b[0m\n\u001b[1;32m----> 1\u001b[1;33m \u001b[0mfood1\u001b[0m\u001b[1;33m.\u001b[0m\u001b[0mupdate\u001b[0m\u001b[1;33m(\u001b[0m\u001b[0mfood2\u001b[0m\u001b[1;33m)\u001b[0m\u001b[1;33m\u001b[0m\u001b[1;33m\u001b[0m\u001b[0m\n\u001b[0m",
      "\u001b[1;31mNameError\u001b[0m: name 'food1' is not defined"
     ]
    }
   ],
   "source": [
    "food1.update(food2)"
   ]
  },
  {
   "cell_type": "code",
   "execution_count": null,
   "id": "85825213",
   "metadata": {},
   "outputs": [],
   "source": []
  },
  {
   "cell_type": "code",
   "execution_count": null,
   "id": "11774675",
   "metadata": {},
   "outputs": [],
   "source": []
  },
  {
   "cell_type": "code",
   "execution_count": null,
   "id": "2f9f7f19",
   "metadata": {},
   "outputs": [],
   "source": []
  },
  {
   "cell_type": "code",
   "execution_count": null,
   "id": "9fe286dd",
   "metadata": {},
   "outputs": [],
   "source": []
  },
  {
   "cell_type": "code",
   "execution_count": null,
   "id": "66b289c2",
   "metadata": {},
   "outputs": [],
   "source": []
  }
 ],
 "metadata": {
  "kernelspec": {
   "display_name": "Python 3 (ipykernel)",
   "language": "python",
   "name": "python3"
  },
  "language_info": {
   "codemirror_mode": {
    "name": "ipython",
    "version": 3
   },
   "file_extension": ".py",
   "mimetype": "text/x-python",
   "name": "python",
   "nbconvert_exporter": "python",
   "pygments_lexer": "ipython3",
   "version": "3.9.7"
  }
 },
 "nbformat": 4,
 "nbformat_minor": 5
}
